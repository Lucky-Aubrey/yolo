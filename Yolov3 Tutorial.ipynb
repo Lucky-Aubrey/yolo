{
 "cells": [
  {
   "cell_type": "markdown",
   "id": "b8bb8716",
   "metadata": {},
   "source": [
    "# YOLOv3 Tutorial"
   ]
  },
  {
   "cell_type": "markdown",
   "id": "f090b8a1",
   "metadata": {},
   "source": [
    "This is a complete tutorial for understanding and implementing YoloV3 with keras/tensorflow. Yolo stands for \"You only look once\" and is an algorithm, which enables us to detect, locate and classify objects on images. The creator of Yolo is Joseph Redmon (pjreddie) and you can find his papers for YoloV1, YoloV2 and YoloV3 on the internet. For this tutorial no knowledge of the first two versions are needed. All you need is basic knowledge of python. So let me show you what Yolo is capable of: [YOLOv3 demonstration](https://www.youtube.com/watch?v=MPU2HistivI)"
   ]
  },
  {
   "cell_type": "markdown",
   "id": "c15fc570",
   "metadata": {},
   "source": [
    "### The YOLOv3 algorithm"
   ]
  },
  {
   "cell_type": "markdown",
   "id": "ba6da322",
   "metadata": {},
   "source": [
    "YOLOv3 creates bounding boxes around objects with a class assigned to them. Before we implement a model and train it to do this task we need lots of data.\n",
    "What we need for YOLOv3 is a dataset with images and labels, which annotate the location, class and size of objects inside the images. Ideally we have the following properties for our dataset:\n",
    "- many images\n",
    "- less noisy images\n",
    "- accurate annotations\n",
    "- relativ shape of images are roughly quadratic and/or similar to eachother\n",
    "\n",
    "Typically images are in the format of jpeg or png and the format of the annotations look like this:\n",
    "[label_id, x1, y1, x2, y2] or [label_id, x, y, w, h]"
   ]
  },
  {
   "cell_type": "markdown",
   "id": "632b6516",
   "metadata": {},
   "source": [
    "The label_id defines the object class (label encoding), (x1,y1) define the upper left corner bounding box and (x2,y2) the lower right corner."
   ]
  },
  {
   "cell_type": "markdown",
   "id": "18148a29",
   "metadata": {},
   "source": [
    "Each image can have multiple objects and each object is assigned one class (or more like in the original paper). "
   ]
  },
  {
   "cell_type": "markdown",
   "id": "30f27c33",
   "metadata": {},
   "source": [
    "### loading the dataset"
   ]
  },
  {
   "cell_type": "markdown",
   "id": "cdd0b8b5",
   "metadata": {},
   "source": [
    "In the first step we want to load our dataset."
   ]
  },
  {
   "cell_type": "code",
   "execution_count": null,
   "id": "244fcaf4",
   "metadata": {},
   "outputs": [],
   "source": []
  },
  {
   "cell_type": "markdown",
   "id": "7271e9b8",
   "metadata": {},
   "source": [
    "### intersection over union"
   ]
  },
  {
   "cell_type": "markdown",
   "id": "eecd3ebf",
   "metadata": {},
   "source": [
    "For object detection algorithms it is important to know what intersection over union (IoU) is, because it is extensively used in YOLOv3 and other algorithms. The intersection over union gives us as 'measurement' how well to 2 boxes overlap. The intersection over union is defined as the intersection of two boxes divided by the union. Two identical boxes will give a IoU of 1 and boxes which dont overlap at all will give an IoU of 0. For all other cases the IoU will give values between 0 and 1."
   ]
  },
  {
   "cell_type": "code",
   "execution_count": 104,
   "id": "24c4c31d",
   "metadata": {},
   "outputs": [
    {
     "data": {
      "text/plain": [
       "<matplotlib.image.AxesImage at 0x15616a55640>"
      ]
     },
     "execution_count": 104,
     "metadata": {},
     "output_type": "execute_result"
    },
    {
     "data": {
      "image/png": "[encoded data removed]",
      "text/plain": [
       "<Figure size 432x288 with 1 Axes>"
      ]
     },
     "metadata": {
      "needs_background": "light"
     },
     "output_type": "display_data"
    }
   ],
   "source": [
    "import numpy as np\n",
    "import matplotlib.pyplot as plt\n",
    "import cv2\n",
    "\n",
    "img = np.ones((416,416,3))\n",
    "boxA = np.array([0.25,0.25,0.6,0.6]) \n",
    "boxB = np.array([0.4,0.4,0.8,0.8])\n",
    "\n",
    "x1,y1,x2,y2 = np.array(boxA * 416, dtype=np.int16)\n",
    "img = cv2.rectangle(img, (x1, y1), (x2, y2), color=(1,0,0), thickness=3)\n",
    "\n",
    "x1,y1,x2,y2 = np.array(boxB * 416, dtype=np.int16)\n",
    "img = cv2.rectangle(img, (x1, y1), (x2, y2), color=(0,0,1), thickness=3)\n",
    "\n",
    "plt.imshow(img)"
   ]
  },
  {
   "cell_type": "code",
   "execution_count": 105,
   "id": "f872a0a2",
   "metadata": {},
   "outputs": [
    {
     "name": "stdout",
     "output_type": "stream",
     "text": [
      "0.1649484536082473\n"
     ]
    }
   ],
   "source": [
    "def intersectionOverUnion(boxA,boxB):\n",
    "\t# determine the (x, y)-coordinates of the intersection rectangle\n",
    "    x1 = np.maximum(boxA[0], boxB[0])\n",
    "    y1 = np.maximum(boxA[1], boxB[1])\n",
    "    x2 = np.minimum(boxA[2], boxB[2])\n",
    "    y2 = np.minimum(boxA[3], boxB[3])\n",
    "\n",
    "    #compute the area of intersection rectangle\n",
    "    interArea = np.maximum(0., x2 - x1)*np.maximum(0., y2 - y1)\n",
    "    \n",
    "    #compute the area of both the prediction and ground-truth\n",
    "    #rectangles\n",
    "    boxAArea = (boxA[2] - boxA[0]) * (boxA[3] - boxA[1])\n",
    "    boxBArea = (boxB[2] - boxB[0]) * (boxB[3] - boxB[1])\n",
    "    # Compute the intersection over union by taking the intersection\n",
    "    # Area and dividing it by the sum of prediction + ground-truth\n",
    "    # Areas - the interesection area\n",
    "    iou = interArea / float(boxAArea + boxBArea - interArea)\n",
    " \n",
    "    return iou\n",
    "\n",
    "print(intersectionOverUnion(boxA,boxB))"
   ]
  },
  {
   "cell_type": "markdown",
   "id": "dec036f7",
   "metadata": {},
   "source": [
    "Now we check if the IoU makes sense.\n",
    "From the plot we can see, that the boxes A and B are designed so, that 1 quarter section of each box overlaps. Since area of the union is made up of 7 such quarter sections our resultion IoU is simply 1/7, which is the result of our computed answer."
   ]
  },
  {
   "cell_type": "markdown",
   "id": "b07b7335",
   "metadata": {},
   "source": [
    "### Non Maximum Suppression (NMS)"
   ]
  },
  {
   "cell_type": "markdown",
   "id": "3ca9152b",
   "metadata": {},
   "source": [
    "This is a very important post processing step for output of the YOLOv3 model. It is designed so that it proposes mulitple bounding boxes for a detected object. We filter those, which leaves us with proposals with high confidence and no redundant predictions for the same object. This is done by the following steps:\n",
    "- Omit all predictions with a confidence higher than a certain threshold\n",
    "- Use intersection over union and the predicted class to omit redundant predictions of the same object\n",
    "\n",
    "So lets take a look at an example. First generate a bunch of boxes which we assume are the predictions of our model."
   ]
  },
  {
   "cell_type": "code",
   "execution_count": 106,
   "id": "9fe6cd60",
   "metadata": {},
   "outputs": [
    {
     "data": {
      "text/plain": [
       "<matplotlib.image.AxesImage at 0x15616acc5e0>"
      ]
     },
     "execution_count": 106,
     "metadata": {},
     "output_type": "execute_result"
    },
    {
     "data": {
      "image/png": "[encoded data removed]",
      "text/plain": [
       "<Figure size 432x288 with 1 Axes>"
      ]
     },
     "metadata": {
      "needs_background": "light"
     },
     "output_type": "display_data"
    }
   ],
   "source": [
    "import numpy as np\n",
    "import cv2\n",
    "import matplotlib.pyplot as plt\n",
    "\n",
    "bboxes = [\n",
    "    [1. ,0.9,0.43, 0.46, 0.57, 0.63],\n",
    "    [1. ,0.8,0.45, 0.45, 0.6, 0.6],\n",
    "    [1. ,0.7,0.15, 0.15, 0.33, 0.3],\n",
    "    [1. ,0.6,0.13, 0.13, 0.35, 0.35],\n",
    "    [1. ,0.6,0.4, 0.25, 0.7, 0.34],\n",
    "    [1. ,0.4,0. , 0. , 0.49 , 0.49 ],\n",
    "    [1. ,0.3,0.5 , 0.5 , .90, .90],\n",
    "    [1. ,0.3,0.1 , 0.1 , .8, .8],\n",
    "    [1. ,0.1,0.3, 0.85, 0.35, 0.9],\n",
    "]\n",
    "\n",
    "img = np.ones((416,416,3))\n",
    "for box in bboxes:\n",
    "    x1,y1,x2,y2 = np.array(np.array(box[2:]) * 416, dtype=np.int16)\n",
    "    img = cv2.rectangle(img, (x1,y1), (x2,y2), color=(1,0,0), thickness=2)\n",
    "    img = cv2.putText(img, str(box[1]), (x2-int((x2-x1)/2),y2+20), fontFace=1, fontScale= 2, color=(0,0,0), thickness=3 )\n",
    "plt.imshow(img)"
   ]
  },
  {
   "cell_type": "markdown",
   "id": "ec2c43d5",
   "metadata": {},
   "source": [
    "Now we implement the non maximum suppression algorithm without looking at classes. It takes all candidate boxes and keep only predictions above a treshold (here: 0.5). Then we sort the boxes by the confidence and apply our intersection over union function. We start with prediction with the highest confidence and calculcate the IoU to all predictions after it. If the IoU is above a certain threshold (here: 0.5) then we assume that these are predictions for the same object and we omit the prediction with the lower confidence. We repeat this with 2nd highest confidence and so on... until only a couple of unique predictions above a certain confidence are left."
   ]
  },
  {
   "cell_type": "code",
   "execution_count": 107,
   "id": "b96449a8",
   "metadata": {},
   "outputs": [
    {
     "data": {
      "text/plain": [
       "<matplotlib.image.AxesImage at 0x15616b3a9d0>"
      ]
     },
     "execution_count": 107,
     "metadata": {},
     "output_type": "execute_result"
    },
    {
     "data": {
      "image/png": "[encoded data removed]",
      "text/plain": [
       "<Figure size 432x288 with 1 Axes>"
      ]
     },
     "metadata": {
      "needs_background": "light"
     },
     "output_type": "display_data"
    }
   ],
   "source": [
    "def nonMaximumSupression(bboxes, thresh_iou, thresh_conf):\n",
    "    # bboxes = [grid*grid, (class, conf, x, y, w, h)]\n",
    "    \n",
    "    assert type(bboxes) == list\n",
    "    \n",
    "    bboxes = [box for box in bboxes if box[1] > thresh_conf]\n",
    "    bboxes = sorted(bboxes, key=lambda x: x[1], reverse=True)\n",
    "    # bboxes_after_nms = []\n",
    "    \n",
    "    i=0\n",
    "    while i <= len(bboxes):\n",
    "        j = i +1\n",
    "        while j < len(bboxes):\n",
    "            iou = intersectionOverUnion(bboxes[i][2:], bboxes[j][2:])\n",
    "            if iou > thresh_iou:\n",
    "                del bboxes[j]\n",
    "            else:\n",
    "                j +=1\n",
    "        i += 1\n",
    "    \n",
    "    return bboxes\n",
    "\n",
    "nms_boxes = nonMaximumSupression(bboxes, 0.5, 0.5)\n",
    "img = np.ones((416,416,3))\n",
    "for box in nms_boxes:\n",
    "    x1,y1,x2,y2 = np.array(np.array(box[2:]) * 416, dtype=np.int16)\n",
    "    img = cv2.rectangle(img, (x1,y1), (x2,y2), color=(1,0,0), thickness=3)\n",
    "    img = cv2.putText(img, str(box[1]), (x2-int((x2-x1)/2),y2+30), fontFace=1, fontScale= 2, color=(0,0,0), thickness=2 )\n",
    "plt.imshow(img)"
   ]
  },
  {
   "cell_type": "markdown",
   "id": "b6c19a8b",
   "metadata": {},
   "source": [
    "We can see that predictions under a the confidence threshold were omitted. The big box prediction with 0.3 confidence vanished. If you look at the top left prediction with 0.7 confidence, you can see that it had an IoU above 0.5 with the other overlapping bounding box with a confidence of 0.6. Since 0.7 is higher, we kept that box."
   ]
  },
  {
   "cell_type": "markdown",
   "id": "d6cf68e3",
   "metadata": {},
   "source": [
    "## Target shape"
   ]
  },
  {
   "cell_type": "markdown",
   "id": "75c5dc3e",
   "metadata": {},
   "source": [
    "If we input an image into our YOLOv3 model, we get an output. Now we compare the output with the true annotation of the same image and calculate a loss, which measures how good our prediction is. With backpropagation our model parameters are adjusted to and if we repeat these steps with multiple images and multiple times, we get our training algorithm. But in order get there we need our labels to be in a specific shape, which matches the output of our model.\n",
    "\n",
    "We divide our image in grids"
   ]
  },
  {
   "cell_type": "code",
   "execution_count": null,
   "id": "bc36bb05",
   "metadata": {},
   "outputs": [],
   "source": []
  },
  {
   "cell_type": "markdown",
   "id": "d27fa028",
   "metadata": {},
   "source": [
    "## Neural Net"
   ]
  },
  {
   "cell_type": "markdown",
   "id": "2f55a7a5",
   "metadata": {},
   "source": [
    "No we implement the neural network. The neural network can be separated in two parts: The feature extractor and the detection heads. The feature extractor used in YOLOv3 is also called darknet53, because is uses 53 convolutional layers. Our convoloutional layer have eather kernel size 1 by 1 or 3 by 3. After each convolutional layer follows are batch normalization layer and a leakyReLu as activation function. We will group this 3 in a convolutional block. Sometimes the convolutional layer uses a stride of 2. If that is the case, we will use zero padding immediately after the convolutional layer. Then batch normalization and leakyReLu follow."
   ]
  },
  {
   "cell_type": "code",
   "execution_count": 1,
   "id": "6d5da2de",
   "metadata": {},
   "outputs": [],
   "source": [
    "import keras\n",
    "from keras.layers import (\n",
    "    BatchNormalization, Conv2D, UpSampling2D, Concatenate, ZeroPadding2D, Lambda\n",
    "    )\n",
    "\n",
    "def conv_block(x, filter_number, kernel_size, stride=1, batch_norm=True):\n",
    "    # padding = 'same'\n",
    "    if stride == 1:\n",
    "        padding = 'same'\n",
    "    else:\n",
    "        x = ZeroPadding2D(((1, 0), (1, 0)))(x)  # top left half-padding\n",
    "        padding = 'valid'\n",
    "    x = Conv2D(filters=filter_number, \n",
    "               kernel_size=(kernel_size,kernel_size), \n",
    "               strides=(stride,stride), \n",
    "               padding = padding, \n",
    "               use_bias=not batch_norm)(x)\n",
    "    if batch_norm is True:\n",
    "        x = BatchNormalization()(x)\n",
    "        x = LeakyReLU(alpha=0.1)(x)\n",
    "    return x"
   ]
  },
  {
   "cell_type": "markdown",
   "id": "b67333f7",
   "metadata": {},
   "source": [
    "Another block we will implement is the residual block. This blocks has two convolutional blocks with kernel size 1 by 1 and 3 by 3. In additiion we have residual skip: We concatenate the input before the first convolutional block with the output of the second convolutional block. This skip results in better training behaviour."
   ]
  },
  {
   "cell_type": "code",
   "execution_count": 2,
   "id": "48717fcd",
   "metadata": {},
   "outputs": [],
   "source": [
    "# Format for the arguments of res_block (example)\n",
    "# x: input, filter_list: [32,64], repeats: 2\n",
    "\n",
    "def res_block(x, filter_list, repeats):\n",
    "    for i in range(repeats):\n",
    "        res_skip = x\n",
    "        x = conv_block(x, filter_list[0], 1)\n",
    "        x = conv_block(x, filter_list[1], 3)\n",
    "        x = add([res_skip, x])\n",
    "    return x\n"
   ]
  },
  {
   "cell_type": "markdown",
   "id": "d2c08639",
   "metadata": {},
   "source": [
    "For convenience we implement an additional block, which consists only of convolutional layers. This block is used in the detection head:"
   ]
  },
  {
   "cell_type": "code",
   "execution_count": 3,
   "id": "75ce9548",
   "metadata": {},
   "outputs": [],
   "source": [
    "# Format for the arguments of filters_numbers, kernel_sizes, strides\n",
    "# [32,64,...], [1,3,...], [1,2,...] <- all same length\n",
    "def conv_block_2(x, filter_numbers, kernel_sizes, strides):\n",
    "    for i, filter_number in enumerate(filter_numbers):\n",
    "        kernel_size = kernel_sizes[i]\n",
    "        stride = strides[i]\n",
    "        x = conv_block(x, filter_number, kernel_size, stride)\n",
    "    return x"
   ]
  },
  {
   "cell_type": "markdown",
   "id": "9a81dbc6",
   "metadata": {},
   "source": []
  },
  {
   "cell_type": "markdown",
   "id": "b2061384",
   "metadata": {},
   "source": [
    "## Using pre-training with COCO-weights"
   ]
  },
  {
   "cell_type": "markdown",
   "id": "3ccf2249",
   "metadata": {},
   "source": [
    "The original YOLOv3 model used pre-training of the darknet on imagenet. ImageNet is a database for image classification task. The weight from that pre-trained darknet53 are then loaded in the darknet53 of the YOLO model. We could do this too, by implementing the darknet53 with a dense layer and training it with a dataset with classification annotations (e.g. ImageNet). Or we can just download the pre-trained weights from and load them directly into our darknet53 implementation. "
   ]
  }
 ],
 "metadata": {
  "kernelspec": {
   "display_name": "Python 3 (ipykernel)",
   "language": "python",
   "name": "python3"
  },
  "language_info": {
   "codemirror_mode": {
    "name": "ipython",
    "version": 3
   },
   "file_extension": ".py",
   "mimetype": "text/x-python",
   "name": "python",
   "nbconvert_exporter": "python",
   "pygments_lexer": "ipython3",
   "version": "3.9.7"
  }
 },
 "nbformat": 4,
 "nbformat_minor": 5
}
